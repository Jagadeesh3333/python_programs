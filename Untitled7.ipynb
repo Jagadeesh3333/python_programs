{
 "cells": [
  {
   "cell_type": "code",
   "execution_count": 3,
   "id": "84bc91a7-77fb-4d64-9db3-e84af54eb064",
   "metadata": {},
   "outputs": [
    {
     "name": "stdin",
     "output_type": "stream",
     "text": [
      " 5\n",
      " 5 3 6 2 7\n"
     ]
    },
    {
     "name": "stdout",
     "output_type": "stream",
     "text": [
      "8 15\n"
     ]
    }
   ],
   "source": [
    "n = int(input())\n",
    "li = list(map(int, input().split()))\n",
    "\n",
    "evensum = 0\n",
    "oddsum = 0\n",
    "\n",
    "for i in range(n):\n",
    "    if li[i] % 2 == 0:\n",
    "        evensum += li[i]\n",
    "    else:\n",
    "        oddsum += li[i]\n",
    "        \n",
    "print(evensum,oddsum)"
   ]
  },
  {
   "cell_type": "code",
   "execution_count": null,
   "id": "031d8055-6b9c-42e8-8335-3bc761487e4e",
   "metadata": {},
   "outputs": [],
   "source": []
  }
 ],
 "metadata": {
  "kernelspec": {
   "display_name": "Python 3 (ipykernel)",
   "language": "python",
   "name": "python3"
  },
  "language_info": {
   "codemirror_mode": {
    "name": "ipython",
    "version": 3
   },
   "file_extension": ".py",
   "mimetype": "text/x-python",
   "name": "python",
   "nbconvert_exporter": "python",
   "pygments_lexer": "ipython3",
   "version": "3.12.5"
  }
 },
 "nbformat": 4,
 "nbformat_minor": 5
}
