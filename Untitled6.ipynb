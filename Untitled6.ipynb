{
 "cells": [
  {
   "cell_type": "code",
   "execution_count": 15,
   "id": "54a6f1a1-532a-450f-87ac-0fec3738e4f1",
   "metadata": {},
   "outputs": [
    {
     "name": "stdin",
     "output_type": "stream",
     "text": [
      " 5\n"
     ]
    },
    {
     "name": "stdout",
     "output_type": "stream",
     "text": [
      "5 is not a prime\n"
     ]
    }
   ],
   "source": [
    "num=int(input())\n",
    "if num>1:\n",
    "    for i in range(2,num):\n",
    "        if(num%1)==0:\n",
    "            print(num,\"is not a prime\")\n",
    "            break;\n",
    "    else:\n",
    "        print(num,\"is a prime\")"
   ]
  },
  {
   "cell_type": "code",
   "execution_count": 18,
   "id": "f2b19dbb-3b28-4e6c-b2fc-65840c6a1030",
   "metadata": {},
   "outputs": [
    {
     "name": "stdin",
     "output_type": "stream",
     "text": [
      " 2\n"
     ]
    },
    {
     "name": "stdout",
     "output_type": "stream",
     "text": [
      "2 is a prime\n"
     ]
    }
   ],
   "source": [
    "num=int(input())\n",
    "if num>1:\n",
    "    for i in range(2,num):\n",
    "        if(num%1)==0:\n",
    "            print(num,\"is not a prime\")\n",
    "            break;\n",
    "    else:\n",
    "        print(num,\"is a prime\")\n",
    "elif num==2:\n",
    "    print(\"Enter a new number\")\n",
    "elif num==1:\n",
    "    print(\"neither prime nor composite\")\n",
    "else:\n",
    "    print(\"Enter a number other than zero\")"
   ]
  },
  {
   "cell_type": "code",
   "execution_count": 19,
   "id": "520320ad-ed91-42cd-8ccb-4866e707c5de",
   "metadata": {},
   "outputs": [
    {
     "name": "stdout",
     "output_type": "stream",
     "text": [
      "hseedagaJ\n"
     ]
    }
   ],
   "source": [
    "s=\"Jagadeesh\"\n",
    "print(s[::-1])"
   ]
  },
  {
   "cell_type": "code",
   "execution_count": 20,
   "id": "1482745e-cdb3-4a94-980e-522a38714b23",
   "metadata": {},
   "outputs": [
    {
     "name": "stdout",
     "output_type": "stream",
     "text": [
      "j \n",
      "aj \n",
      "gaj \n",
      "agaj \n",
      "dagaj \n",
      "edagaj \n",
      "eedagaj \n",
      "seedagaj \n",
      "hseedagaj \n"
     ]
    }
   ],
   "source": [
    "name=\"jagadeesh\"\n",
    "b=' '\n",
    "for i in name:\n",
    "    b=i+b\n",
    "    print(b)"
   ]
  },
  {
   "cell_type": "code",
   "execution_count": 24,
   "id": "2cd2d5ae-4961-4952-866c-a8eb9a18531c",
   "metadata": {},
   "outputs": [
    {
     "name": "stdin",
     "output_type": "stream",
     "text": [
      " 135\n"
     ]
    },
    {
     "name": "stdout",
     "output_type": "stream",
     "text": [
      "531\n"
     ]
    }
   ],
   "source": [
    "rev=0\n",
    "num=int(input())\n",
    "while num>0:\n",
    "    rem=num%10\n",
    "    rev=rev*10+rem\n",
    "    num=num//10\n",
    "print(rev)"
   ]
  },
  {
   "cell_type": "code",
   "execution_count": 25,
   "id": "207ee16e-0839-4176-a1b4-def789ce48a0",
   "metadata": {},
   "outputs": [
    {
     "name": "stdin",
     "output_type": "stream",
     "text": [
      " 5\n"
     ]
    },
    {
     "name": "stdout",
     "output_type": "stream",
     "text": [
      "0\n",
      "1\n",
      "1\n",
      "2\n",
      "3\n"
     ]
    }
   ],
   "source": [
    "n=int(input())\n",
    "n1=0\n",
    "n2=1\n",
    "print(n1)\n",
    "print(n2)\n",
    "for i in range(n-2):\n",
    "    n3=n1+n2\n",
    "    print(n3)\n",
    "    n1=n2\n",
    "    n2=n3"
   ]
  },
  {
   "cell_type": "raw",
   "id": "3da1c797-87ae-4747-b327-618c4ae5dd37",
   "metadata": {},
   "source": []
  },
  {
   "cell_type": "code",
   "execution_count": 27,
   "id": "9aa560be-5550-4288-9035-15a18aeae672",
   "metadata": {},
   "outputs": [
    {
     "name": "stdin",
     "output_type": "stream",
     "text": [
      " 8\n"
     ]
    },
    {
     "name": "stdout",
     "output_type": "stream",
     "text": [
      "0\n",
      "1\n",
      "1\n",
      "2\n",
      "3\n",
      "5\n",
      "8\n",
      "13\n"
     ]
    }
   ],
   "source": [
    "n=int(input())\n",
    "n1=0\n",
    "n2=1\n",
    "print(n1)\n",
    "print(n2)\n",
    "i=0\n",
    "while i<n-2:\n",
    "    n3=n1+n2\n",
    "    print(n3)\n",
    "    n1=n2\n",
    "    n2=n3\n",
    "    i+=1"
   ]
  },
  {
   "cell_type": "code",
   "execution_count": 28,
   "id": "6e6557eb-0fef-4fca-bd63-0c3b33cad76e",
   "metadata": {},
   "outputs": [
    {
     "name": "stdout",
     "output_type": "stream",
     "text": [
      "143\n"
     ]
    }
   ],
   "source": [
    "a=[29,33,143,89,128]\n",
    "a.sort()\n",
    "print(a[-1])"
   ]
  },
  {
   "cell_type": "code",
   "execution_count": 29,
   "id": "945dfb3f-a431-4a19-a0df-04386a7e37c2",
   "metadata": {},
   "outputs": [
    {
     "name": "stdout",
     "output_type": "stream",
     "text": [
      "143\n"
     ]
    }
   ],
   "source": [
    "a=[22,39,143,88,108]\n",
    "print(max(a))"
   ]
  },
  {
   "cell_type": "code",
   "execution_count": 30,
   "id": "f18a04eb-82b8-4d2a-80fc-acf8c08e97f7",
   "metadata": {},
   "outputs": [
    {
     "name": "stdin",
     "output_type": "stream",
     "text": [
      " 33\n"
     ]
    },
    {
     "name": "stdout",
     "output_type": "stream",
     "text": [
      "palindrome\n"
     ]
    }
   ],
   "source": [
    "n=input()\n",
    "m=n[::-1]\n",
    "if n==m:\n",
    "    print(\"palindrome\")\n",
    "else:\n",
    "    print(\"Not a palindrome\")"
   ]
  },
  {
   "cell_type": "code",
   "execution_count": 60,
   "id": "887ffa85-3e75-4e2d-a7db-4e8a38b6c276",
   "metadata": {},
   "outputs": [
    {
     "name": "stdin",
     "output_type": "stream",
     "text": [
      " 5 6 7 3 4\n"
     ]
    },
    {
     "ename": "ValueError",
     "evalue": "invalid literal for int() with base 10: '5 6 7 3 4'",
     "output_type": "error",
     "traceback": [
      "\u001b[1;31m---------------------------------------------------------------------------\u001b[0m",
      "\u001b[1;31mValueError\u001b[0m                                Traceback (most recent call last)",
      "Cell \u001b[1;32mIn[60], line 1\u001b[0m\n\u001b[1;32m----> 1\u001b[0m n\u001b[38;5;241m=\u001b[39m\u001b[38;5;28;43mint\u001b[39;49m\u001b[43m(\u001b[49m\u001b[38;5;28;43minput\u001b[39;49m\u001b[43m(\u001b[49m\u001b[43m)\u001b[49m\u001b[43m)\u001b[49m\n\u001b[0;32m      2\u001b[0m li\u001b[38;5;241m=\u001b[39m\u001b[38;5;28mlist\u001b[39m(\u001b[38;5;28mmap\u001b[39m(\u001b[38;5;28mint\u001b[39m,\u001b[38;5;28minput\u001b[39m\u001b[38;5;241m.\u001b[39mSplit()))\n\u001b[0;32m      3\u001b[0m evensum\u001b[38;5;241m=\u001b[39m\u001b[38;5;241m0\u001b[39m\n",
      "\u001b[1;31mValueError\u001b[0m: invalid literal for int() with base 10: '5 6 7 3 4'"
     ]
    }
   ],
   "source": [
    "n = int(input())\n",
    "li = list(map(int, input().split()))\n",
    "\n",
    "evensum = 0\n",
    "oddsum = 0\n",
    "\n",
    "for i in range(n):\n",
    "    if li[i] % 2 == 0:\n",
    "        evensum += li[i]\n",
    "    else:\n",
    "        oddsum += li[i]\n",
    "        \n",
    "print(evensum,oddsum)"
   ]
  },
  {
   "cell_type": "markdown",
   "id": "d47fbeed-0e89-4ece-a4eb-0cfa9ad27cb6",
   "metadata": {},
   "source": []
  },
  {
   "cell_type": "code",
   "execution_count": null,
   "id": "9fc59318-ec70-4376-883d-90312316b898",
   "metadata": {},
   "outputs": [],
   "source": []
  },
  {
   "cell_type": "code",
   "execution_count": null,
   "id": "b80c0d8f-363d-4f74-be28-dbaf159c5fbd",
   "metadata": {},
   "outputs": [],
   "source": []
  },
  {
   "cell_type": "code",
   "execution_count": null,
   "id": "893b5416-d924-4007-82bc-bd08d3ecb282",
   "metadata": {},
   "outputs": [],
   "source": []
  }
 ],
 "metadata": {
  "kernelspec": {
   "display_name": "Python 3 (ipykernel)",
   "language": "python",
   "name": "python3"
  },
  "language_info": {
   "codemirror_mode": {
    "name": "ipython",
    "version": 3
   },
   "file_extension": ".py",
   "mimetype": "text/x-python",
   "name": "python",
   "nbconvert_exporter": "python",
   "pygments_lexer": "ipython3",
   "version": "3.12.5"
  }
 },
 "nbformat": 4,
 "nbformat_minor": 5
}
